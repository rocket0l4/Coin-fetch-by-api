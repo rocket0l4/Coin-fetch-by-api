{
  "nbformat": 4,
  "nbformat_minor": 0,
  "metadata": {
    "colab": {
      "provenance": [],
      "gpuType": "T4",
      "mount_file_id": "1OB7QXb2jyo6hOAEZktMKy3sAKIjm42xF",
      "authorship_tag": "ABX9TyMAynUK56WDeDIeFh4/jCZg",
      "include_colab_link": true
    },
    "kernelspec": {
      "name": "python3",
      "display_name": "Python 3"
    },
    "language_info": {
      "name": "python"
    },
    "accelerator": "GPU"
  },
  "cells": [
    {
      "cell_type": "markdown",
      "metadata": {
        "id": "view-in-github",
        "colab_type": "text"
      },
      "source": [
        "<a href=\"https://colab.research.google.com/github/rocket0l4/Coin-fetch-by-api/blob/main/code_for_ethereum_data_fatch_15_nov.ipynb\" target=\"_parent\"><img src=\"https://colab.research.google.com/assets/colab-badge.svg\" alt=\"Open In Colab\"/></a>"
      ]
    },
    {
      "cell_type": "code",
      "execution_count": 1,
      "metadata": {
        "colab": {
          "base_uri": "https://localhost:8080/"
        },
        "id": "wFCAWXvAlXjO",
        "outputId": "ac4a2c78-d70a-41d8-8c2e-05dee69c4824"
      },
      "outputs": [
        {
          "output_type": "stream",
          "name": "stdout",
          "text": [
            "Data saved to ethereum_data.xlsx\n"
          ]
        }
      ],
      "source": [
        "import requests\n",
        "import pandas as pd\n",
        "\n",
        "# Define the endpoint and parameters for CoinGecko API\n",
        "url = \"https://api.coingecko.com/api/v3/coins/ethereum/market_chart\"\n",
        "params = {\n",
        "    \"vs_currency\": \"usd\",\n",
        "    \"days\": \"365\",\n",
        "    \"interval\": \"daily\"\n",
        "}\n",
        "\n",
        "# Fetch the data\n",
        "response = requests.get(url, params=params)\n",
        "data = response.json()\n",
        "\n",
        "# Process the data into a DataFrame\n",
        "dates = [entry[0] for entry in data[\"prices\"]]\n",
        "prices = [entry[1] for entry in data[\"prices\"]]\n",
        "volumes = [entry[1] for entry in data[\"total_volumes\"]]\n",
        "\n",
        "# Create DataFrame\n",
        "ethereum_data = pd.DataFrame({\n",
        "    \"Date\": pd.to_datetime(dates, unit=\"ms\"),\n",
        "    \"Close\": prices,\n",
        "    \"Volume\": volumes\n",
        "})\n",
        "\n",
        "# Save as Excel file\n",
        "output_path = \"ethereum_data.xlsx\"\n",
        "ethereum_data.to_excel(output_path, index=False)\n",
        "\n",
        "print(f\"Data saved to {output_path}\")\n"
      ]
    },
    {
      "cell_type": "code",
      "source": [
        "import requests\n",
        "import pandas as pd\n",
        "\n",
        "# Define the endpoint and parameters for CoinGecko API\n",
        "url = \"https://api.coingecko.com/api/v3/coins/ethereum/ohlc\"\n",
        "params = {\n",
        "    \"vs_currency\": \"usd\",\n",
        "    \"days\": \"365\"  # Fetching 1 year of data\n",
        "}\n",
        "\n",
        "# Fetch the OHLC data\n",
        "response = requests.get(url, params=params)\n",
        "if response.status_code == 200:\n",
        "    ohlc_data = response.json()\n",
        "\n",
        "    # Convert to DataFrame\n",
        "    ethereum_data = pd.DataFrame(\n",
        "        ohlc_data, columns=[\"Date\", \"Open\", \"High\", \"Low\", \"Close\"]\n",
        "    )\n",
        "    ethereum_data[\"Date\"] = pd.to_datetime(ethereum_data[\"Date\"], unit=\"ms\")\n",
        "\n",
        "    # Fetch volume data\n",
        "    url_volume = \"https://api.coingecko.com/api/v3/coins/ethereum/market_chart\"\n",
        "    params_volume = {\n",
        "        \"vs_currency\": \"usd\",\n",
        "        \"days\": \"365\"\n",
        "    }\n",
        "    response_volume = requests.get(url_volume, params=params_volume)\n",
        "    if response_volume.status_code == 200:\n",
        "        volume_data = response_volume.json()[\"total_volumes\"]\n",
        "\n",
        "        # Extract volumes\n",
        "        volumes = [entry[1] for entry in volume_data]\n",
        "\n",
        "        # Add Volume column to DataFrame\n",
        "        ethereum_data[\"Volume\"] = volumes\n",
        "\n",
        "        # Save as Excel file\n",
        "        output_path = \"ethereum_data.xlsx\"\n",
        "        ethereum_data.to_excel(output_path, index=False)\n",
        "\n",
        "        print(f\"Data saved to {output_path}\")\n",
        "    else:\n",
        "        print(\"Failed to fetch volume data.\")\n",
        "else:\n",
        "    print(\"Failed to fetch OHLC data.\")\n"
      ],
      "metadata": {
        "colab": {
          "base_uri": "https://localhost:8080/",
          "height": 394
        },
        "id": "3oeWkvSslgiq",
        "outputId": "cc1734e2-5008-499d-dc89-86c17362efa1"
      },
      "execution_count": 2,
      "outputs": [
        {
          "output_type": "error",
          "ename": "ValueError",
          "evalue": "Length of values (366) does not match length of index (92)",
          "traceback": [
            "\u001b[0;31m---------------------------------------------------------------------------\u001b[0m",
            "\u001b[0;31mValueError\u001b[0m                                Traceback (most recent call last)",
            "\u001b[0;32m<ipython-input-2-321c29aa4875>\u001b[0m in \u001b[0;36m<cell line: 13>\u001b[0;34m()\u001b[0m\n\u001b[1;32m     34\u001b[0m \u001b[0;34m\u001b[0m\u001b[0m\n\u001b[1;32m     35\u001b[0m         \u001b[0;31m# Add Volume column to DataFrame\u001b[0m\u001b[0;34m\u001b[0m\u001b[0;34m\u001b[0m\u001b[0m\n\u001b[0;32m---> 36\u001b[0;31m         \u001b[0methereum_data\u001b[0m\u001b[0;34m[\u001b[0m\u001b[0;34m\"Volume\"\u001b[0m\u001b[0;34m]\u001b[0m \u001b[0;34m=\u001b[0m \u001b[0mvolumes\u001b[0m\u001b[0;34m\u001b[0m\u001b[0;34m\u001b[0m\u001b[0m\n\u001b[0m\u001b[1;32m     37\u001b[0m \u001b[0;34m\u001b[0m\u001b[0m\n\u001b[1;32m     38\u001b[0m         \u001b[0;31m# Save as Excel file\u001b[0m\u001b[0;34m\u001b[0m\u001b[0;34m\u001b[0m\u001b[0m\n",
            "\u001b[0;32m/usr/local/lib/python3.10/dist-packages/pandas/core/frame.py\u001b[0m in \u001b[0;36m__setitem__\u001b[0;34m(self, key, value)\u001b[0m\n\u001b[1;32m   4309\u001b[0m         \u001b[0;32melse\u001b[0m\u001b[0;34m:\u001b[0m\u001b[0;34m\u001b[0m\u001b[0;34m\u001b[0m\u001b[0m\n\u001b[1;32m   4310\u001b[0m             \u001b[0;31m# set column\u001b[0m\u001b[0;34m\u001b[0m\u001b[0;34m\u001b[0m\u001b[0m\n\u001b[0;32m-> 4311\u001b[0;31m             \u001b[0mself\u001b[0m\u001b[0;34m.\u001b[0m\u001b[0m_set_item\u001b[0m\u001b[0;34m(\u001b[0m\u001b[0mkey\u001b[0m\u001b[0;34m,\u001b[0m \u001b[0mvalue\u001b[0m\u001b[0;34m)\u001b[0m\u001b[0;34m\u001b[0m\u001b[0;34m\u001b[0m\u001b[0m\n\u001b[0m\u001b[1;32m   4312\u001b[0m \u001b[0;34m\u001b[0m\u001b[0m\n\u001b[1;32m   4313\u001b[0m     \u001b[0;32mdef\u001b[0m \u001b[0m_setitem_slice\u001b[0m\u001b[0;34m(\u001b[0m\u001b[0mself\u001b[0m\u001b[0;34m,\u001b[0m \u001b[0mkey\u001b[0m\u001b[0;34m:\u001b[0m \u001b[0mslice\u001b[0m\u001b[0;34m,\u001b[0m \u001b[0mvalue\u001b[0m\u001b[0;34m)\u001b[0m \u001b[0;34m->\u001b[0m \u001b[0;32mNone\u001b[0m\u001b[0;34m:\u001b[0m\u001b[0;34m\u001b[0m\u001b[0;34m\u001b[0m\u001b[0m\n",
            "\u001b[0;32m/usr/local/lib/python3.10/dist-packages/pandas/core/frame.py\u001b[0m in \u001b[0;36m_set_item\u001b[0;34m(self, key, value)\u001b[0m\n\u001b[1;32m   4522\u001b[0m         \u001b[0mensure\u001b[0m \u001b[0mhomogeneity\u001b[0m\u001b[0;34m.\u001b[0m\u001b[0;34m\u001b[0m\u001b[0;34m\u001b[0m\u001b[0m\n\u001b[1;32m   4523\u001b[0m         \"\"\"\n\u001b[0;32m-> 4524\u001b[0;31m         \u001b[0mvalue\u001b[0m\u001b[0;34m,\u001b[0m \u001b[0mrefs\u001b[0m \u001b[0;34m=\u001b[0m \u001b[0mself\u001b[0m\u001b[0;34m.\u001b[0m\u001b[0m_sanitize_column\u001b[0m\u001b[0;34m(\u001b[0m\u001b[0mvalue\u001b[0m\u001b[0;34m)\u001b[0m\u001b[0;34m\u001b[0m\u001b[0;34m\u001b[0m\u001b[0m\n\u001b[0m\u001b[1;32m   4525\u001b[0m \u001b[0;34m\u001b[0m\u001b[0m\n\u001b[1;32m   4526\u001b[0m         if (\n",
            "\u001b[0;32m/usr/local/lib/python3.10/dist-packages/pandas/core/frame.py\u001b[0m in \u001b[0;36m_sanitize_column\u001b[0;34m(self, value)\u001b[0m\n\u001b[1;32m   5264\u001b[0m \u001b[0;34m\u001b[0m\u001b[0m\n\u001b[1;32m   5265\u001b[0m         \u001b[0;32mif\u001b[0m \u001b[0mis_list_like\u001b[0m\u001b[0;34m(\u001b[0m\u001b[0mvalue\u001b[0m\u001b[0;34m)\u001b[0m\u001b[0;34m:\u001b[0m\u001b[0;34m\u001b[0m\u001b[0;34m\u001b[0m\u001b[0m\n\u001b[0;32m-> 5266\u001b[0;31m             \u001b[0mcom\u001b[0m\u001b[0;34m.\u001b[0m\u001b[0mrequire_length_match\u001b[0m\u001b[0;34m(\u001b[0m\u001b[0mvalue\u001b[0m\u001b[0;34m,\u001b[0m \u001b[0mself\u001b[0m\u001b[0;34m.\u001b[0m\u001b[0mindex\u001b[0m\u001b[0;34m)\u001b[0m\u001b[0;34m\u001b[0m\u001b[0;34m\u001b[0m\u001b[0m\n\u001b[0m\u001b[1;32m   5267\u001b[0m         \u001b[0marr\u001b[0m \u001b[0;34m=\u001b[0m \u001b[0msanitize_array\u001b[0m\u001b[0;34m(\u001b[0m\u001b[0mvalue\u001b[0m\u001b[0;34m,\u001b[0m \u001b[0mself\u001b[0m\u001b[0;34m.\u001b[0m\u001b[0mindex\u001b[0m\u001b[0;34m,\u001b[0m \u001b[0mcopy\u001b[0m\u001b[0;34m=\u001b[0m\u001b[0;32mTrue\u001b[0m\u001b[0;34m,\u001b[0m \u001b[0mallow_2d\u001b[0m\u001b[0;34m=\u001b[0m\u001b[0;32mTrue\u001b[0m\u001b[0;34m)\u001b[0m\u001b[0;34m\u001b[0m\u001b[0;34m\u001b[0m\u001b[0m\n\u001b[1;32m   5268\u001b[0m         if (\n",
            "\u001b[0;32m/usr/local/lib/python3.10/dist-packages/pandas/core/common.py\u001b[0m in \u001b[0;36mrequire_length_match\u001b[0;34m(data, index)\u001b[0m\n\u001b[1;32m    571\u001b[0m     \"\"\"\n\u001b[1;32m    572\u001b[0m     \u001b[0;32mif\u001b[0m \u001b[0mlen\u001b[0m\u001b[0;34m(\u001b[0m\u001b[0mdata\u001b[0m\u001b[0;34m)\u001b[0m \u001b[0;34m!=\u001b[0m \u001b[0mlen\u001b[0m\u001b[0;34m(\u001b[0m\u001b[0mindex\u001b[0m\u001b[0;34m)\u001b[0m\u001b[0;34m:\u001b[0m\u001b[0;34m\u001b[0m\u001b[0;34m\u001b[0m\u001b[0m\n\u001b[0;32m--> 573\u001b[0;31m         raise ValueError(\n\u001b[0m\u001b[1;32m    574\u001b[0m             \u001b[0;34m\"Length of values \"\u001b[0m\u001b[0;34m\u001b[0m\u001b[0;34m\u001b[0m\u001b[0m\n\u001b[1;32m    575\u001b[0m             \u001b[0;34mf\"({len(data)}) \"\u001b[0m\u001b[0;34m\u001b[0m\u001b[0;34m\u001b[0m\u001b[0m\n",
            "\u001b[0;31mValueError\u001b[0m: Length of values (366) does not match length of index (92)"
          ]
        }
      ]
    },
    {
      "source": [
        "import requests\n",
        "import pandas as pd\n",
        "\n",
        "# Define the endpoint and parameters for CoinGecko API\n",
        "url = \"https://api.coingecko.com/api/v3/coins/ethereum/ohlc\"\n",
        "params = {\n",
        "    \"vs_currency\": \"usd\",\n",
        "    \"days\": \"365\"  # Fetching 1 year of data\n",
        "}\n",
        "\n",
        "# Fetch the OHLC data\n",
        "response = requests.get(url, params=params)\n",
        "if response.status_code == 200:\n",
        "    ohlc_data = response.json()\n",
        "\n",
        "    # Convert to DataFrame\n",
        "    ethereum_data = pd.DataFrame(\n",
        "        ohlc_data, columns=[\"Date\", \"Open\", \"High\", \"Low\", \"Close\"]\n",
        "    )\n",
        "    ethereum_data[\"Date\"] = pd.to_datetime(ethereum_data[\"Date\"], unit=\"ms\")\n",
        "\n",
        "    # Fetch volume data\n",
        "    url_volume = \"https://api.coingecko.com/api/v3/coins/ethereum/market_chart\"\n",
        "    params_volume = {\n",
        "        \"vs_currency\": \"usd\",\n",
        "        \"days\": \"365\"\n",
        "    }\n",
        "    response_volume = requests.get(url_volume, params=params_volume)\n",
        "    if response_volume.status_code == 200:\n",
        "        volume_data = response_volume.json()[\"total_volumes\"]\n",
        "\n",
        "        # Extract volumes, ensuring the length matches the OHLC data\n",
        "        # We only take volume data for the dates present in ethereum_data\n",
        "        volumes = [v[1] for v, d in zip(volume_data, volume_data)\n",
        "                   if pd.to_datetime(d[0], unit='ms') in ethereum_data[\"Date\"].values]\n",
        "\n",
        "\n",
        "        # Add Volume column to DataFrame\n",
        "        ethereum_data[\"Volume\"] = volumes\n",
        "\n",
        "        # Save as Excel file\n",
        "        output_path = \"ethereum_data.xlsx\"\n",
        "        ethereum_data.to_excel(output_path, index=False)\n",
        "\n",
        "        print(f\"Data saved to {output_path}\")\n",
        "    else:\n",
        "        print(\"Failed to fetch volume data.\")\n",
        "else:\n",
        "    print(\"Failed to fetch OHLC data.\")"
      ],
      "cell_type": "code",
      "metadata": {
        "colab": {
          "base_uri": "https://localhost:8080/",
          "height": 394
        },
        "id": "522wL8UgmekB",
        "outputId": "26b711ea-9980-4905-9e41-60b0f9c89dc4"
      },
      "execution_count": 3,
      "outputs": [
        {
          "output_type": "error",
          "ename": "ValueError",
          "evalue": "Length of values (91) does not match length of index (92)",
          "traceback": [
            "\u001b[0;31m---------------------------------------------------------------------------\u001b[0m",
            "\u001b[0;31mValueError\u001b[0m                                Traceback (most recent call last)",
            "\u001b[0;32m<ipython-input-3-f24c8673d830>\u001b[0m in \u001b[0;36m<cell line: 13>\u001b[0;34m()\u001b[0m\n\u001b[1;32m     37\u001b[0m \u001b[0;34m\u001b[0m\u001b[0m\n\u001b[1;32m     38\u001b[0m         \u001b[0;31m# Add Volume column to DataFrame\u001b[0m\u001b[0;34m\u001b[0m\u001b[0;34m\u001b[0m\u001b[0m\n\u001b[0;32m---> 39\u001b[0;31m         \u001b[0methereum_data\u001b[0m\u001b[0;34m[\u001b[0m\u001b[0;34m\"Volume\"\u001b[0m\u001b[0;34m]\u001b[0m \u001b[0;34m=\u001b[0m \u001b[0mvolumes\u001b[0m\u001b[0;34m\u001b[0m\u001b[0;34m\u001b[0m\u001b[0m\n\u001b[0m\u001b[1;32m     40\u001b[0m \u001b[0;34m\u001b[0m\u001b[0m\n\u001b[1;32m     41\u001b[0m         \u001b[0;31m# Save as Excel file\u001b[0m\u001b[0;34m\u001b[0m\u001b[0;34m\u001b[0m\u001b[0m\n",
            "\u001b[0;32m/usr/local/lib/python3.10/dist-packages/pandas/core/frame.py\u001b[0m in \u001b[0;36m__setitem__\u001b[0;34m(self, key, value)\u001b[0m\n\u001b[1;32m   4309\u001b[0m         \u001b[0;32melse\u001b[0m\u001b[0;34m:\u001b[0m\u001b[0;34m\u001b[0m\u001b[0;34m\u001b[0m\u001b[0m\n\u001b[1;32m   4310\u001b[0m             \u001b[0;31m# set column\u001b[0m\u001b[0;34m\u001b[0m\u001b[0;34m\u001b[0m\u001b[0m\n\u001b[0;32m-> 4311\u001b[0;31m             \u001b[0mself\u001b[0m\u001b[0;34m.\u001b[0m\u001b[0m_set_item\u001b[0m\u001b[0;34m(\u001b[0m\u001b[0mkey\u001b[0m\u001b[0;34m,\u001b[0m \u001b[0mvalue\u001b[0m\u001b[0;34m)\u001b[0m\u001b[0;34m\u001b[0m\u001b[0;34m\u001b[0m\u001b[0m\n\u001b[0m\u001b[1;32m   4312\u001b[0m \u001b[0;34m\u001b[0m\u001b[0m\n\u001b[1;32m   4313\u001b[0m     \u001b[0;32mdef\u001b[0m \u001b[0m_setitem_slice\u001b[0m\u001b[0;34m(\u001b[0m\u001b[0mself\u001b[0m\u001b[0;34m,\u001b[0m \u001b[0mkey\u001b[0m\u001b[0;34m:\u001b[0m \u001b[0mslice\u001b[0m\u001b[0;34m,\u001b[0m \u001b[0mvalue\u001b[0m\u001b[0;34m)\u001b[0m \u001b[0;34m->\u001b[0m \u001b[0;32mNone\u001b[0m\u001b[0;34m:\u001b[0m\u001b[0;34m\u001b[0m\u001b[0;34m\u001b[0m\u001b[0m\n",
            "\u001b[0;32m/usr/local/lib/python3.10/dist-packages/pandas/core/frame.py\u001b[0m in \u001b[0;36m_set_item\u001b[0;34m(self, key, value)\u001b[0m\n\u001b[1;32m   4522\u001b[0m         \u001b[0mensure\u001b[0m \u001b[0mhomogeneity\u001b[0m\u001b[0;34m.\u001b[0m\u001b[0;34m\u001b[0m\u001b[0;34m\u001b[0m\u001b[0m\n\u001b[1;32m   4523\u001b[0m         \"\"\"\n\u001b[0;32m-> 4524\u001b[0;31m         \u001b[0mvalue\u001b[0m\u001b[0;34m,\u001b[0m \u001b[0mrefs\u001b[0m \u001b[0;34m=\u001b[0m \u001b[0mself\u001b[0m\u001b[0;34m.\u001b[0m\u001b[0m_sanitize_column\u001b[0m\u001b[0;34m(\u001b[0m\u001b[0mvalue\u001b[0m\u001b[0;34m)\u001b[0m\u001b[0;34m\u001b[0m\u001b[0;34m\u001b[0m\u001b[0m\n\u001b[0m\u001b[1;32m   4525\u001b[0m \u001b[0;34m\u001b[0m\u001b[0m\n\u001b[1;32m   4526\u001b[0m         if (\n",
            "\u001b[0;32m/usr/local/lib/python3.10/dist-packages/pandas/core/frame.py\u001b[0m in \u001b[0;36m_sanitize_column\u001b[0;34m(self, value)\u001b[0m\n\u001b[1;32m   5264\u001b[0m \u001b[0;34m\u001b[0m\u001b[0m\n\u001b[1;32m   5265\u001b[0m         \u001b[0;32mif\u001b[0m \u001b[0mis_list_like\u001b[0m\u001b[0;34m(\u001b[0m\u001b[0mvalue\u001b[0m\u001b[0;34m)\u001b[0m\u001b[0;34m:\u001b[0m\u001b[0;34m\u001b[0m\u001b[0;34m\u001b[0m\u001b[0m\n\u001b[0;32m-> 5266\u001b[0;31m             \u001b[0mcom\u001b[0m\u001b[0;34m.\u001b[0m\u001b[0mrequire_length_match\u001b[0m\u001b[0;34m(\u001b[0m\u001b[0mvalue\u001b[0m\u001b[0;34m,\u001b[0m \u001b[0mself\u001b[0m\u001b[0;34m.\u001b[0m\u001b[0mindex\u001b[0m\u001b[0;34m)\u001b[0m\u001b[0;34m\u001b[0m\u001b[0;34m\u001b[0m\u001b[0m\n\u001b[0m\u001b[1;32m   5267\u001b[0m         \u001b[0marr\u001b[0m \u001b[0;34m=\u001b[0m \u001b[0msanitize_array\u001b[0m\u001b[0;34m(\u001b[0m\u001b[0mvalue\u001b[0m\u001b[0;34m,\u001b[0m \u001b[0mself\u001b[0m\u001b[0;34m.\u001b[0m\u001b[0mindex\u001b[0m\u001b[0;34m,\u001b[0m \u001b[0mcopy\u001b[0m\u001b[0;34m=\u001b[0m\u001b[0;32mTrue\u001b[0m\u001b[0;34m,\u001b[0m \u001b[0mallow_2d\u001b[0m\u001b[0;34m=\u001b[0m\u001b[0;32mTrue\u001b[0m\u001b[0;34m)\u001b[0m\u001b[0;34m\u001b[0m\u001b[0;34m\u001b[0m\u001b[0m\n\u001b[1;32m   5268\u001b[0m         if (\n",
            "\u001b[0;32m/usr/local/lib/python3.10/dist-packages/pandas/core/common.py\u001b[0m in \u001b[0;36mrequire_length_match\u001b[0;34m(data, index)\u001b[0m\n\u001b[1;32m    571\u001b[0m     \"\"\"\n\u001b[1;32m    572\u001b[0m     \u001b[0;32mif\u001b[0m \u001b[0mlen\u001b[0m\u001b[0;34m(\u001b[0m\u001b[0mdata\u001b[0m\u001b[0;34m)\u001b[0m \u001b[0;34m!=\u001b[0m \u001b[0mlen\u001b[0m\u001b[0;34m(\u001b[0m\u001b[0mindex\u001b[0m\u001b[0;34m)\u001b[0m\u001b[0;34m:\u001b[0m\u001b[0;34m\u001b[0m\u001b[0;34m\u001b[0m\u001b[0m\n\u001b[0;32m--> 573\u001b[0;31m         raise ValueError(\n\u001b[0m\u001b[1;32m    574\u001b[0m             \u001b[0;34m\"Length of values \"\u001b[0m\u001b[0;34m\u001b[0m\u001b[0;34m\u001b[0m\u001b[0m\n\u001b[1;32m    575\u001b[0m             \u001b[0;34mf\"({len(data)}) \"\u001b[0m\u001b[0;34m\u001b[0m\u001b[0;34m\u001b[0m\u001b[0m\n",
            "\u001b[0;31mValueError\u001b[0m: Length of values (91) does not match length of index (92)"
          ]
        }
      ]
    },
    {
      "source": [
        "import requests\n",
        "import pandas as pd\n",
        "\n",
        "# Define the endpoint and parameters for CoinGecko API\n",
        "url = \"https://api.coingecko.com/api/v3/coins/ethereum/ohlc\"\n",
        "params = {\n",
        "    \"vs_currency\": \"usd\",\n",
        "    \"days\": \"365\"  # Fetching 1 year of data\n",
        "}\n",
        "\n",
        "# Fetch the OHLC data\n",
        "response = requests.get(url, params=params)\n",
        "if response.status_code == 200:\n",
        "    ohlc_data = response.json()\n",
        "\n",
        "    # Convert to DataFrame\n",
        "    ethereum_data = pd.DataFrame(\n",
        "        ohlc_data, columns=[\"Date\", \"Open\", \"High\", \"Low\", \"Close\"]\n",
        "    )\n",
        "    ethereum_data[\"Date\"] = pd.to_datetime(ethereum_data[\"Date\"], unit=\"ms\")\n",
        "\n",
        "    # Fetch volume data\n",
        "    url_volume = \"https://api.coingecko.com/api/v3/coins/ethereum/market_chart\"\n",
        "    params_volume = {\n",
        "        \"vs_currency\": \"usd\",\n",
        "        \"days\": \"365\"\n",
        "    }\n",
        "    response_volume = requests.get(url_volume, params=params_volume)\n",
        "    if response_volume.status_code == 200:\n",
        "        volume_data = response_volume.json()[\"total_volumes\"]\n",
        "\n",
        "        # Create a DataFrame for volume data\n",
        "        volume_df = pd.DataFrame(volume_data, columns=[\"Date\", \"Volume\"])\n",
        "        volume_df[\"Date\"] = pd.to_datetime(volume_df[\"Date\"], unit=\"ms\")\n",
        "\n",
        "        # Merge OHLC data with volume data on 'Date'\n",
        "        ethereum_data = pd.merge(ethereum_data, volume_df, on=\"Date\", how=\"left\")\n",
        "\n",
        "        # Save as Excel file\n",
        "        output_path = \"etherum_one-year_data.xlsx\"\n",
        "        ethereum_data.to_excel(output_path, index=False)\n",
        "\n",
        "        print(f\"Data saved to {output_path}\")\n",
        "    else:\n",
        "        print(\"Failed to fetch volume data.\")\n",
        "else:\n",
        "    print(\"Failed to fetch OHLC data.\")"
      ],
      "cell_type": "code",
      "metadata": {
        "colab": {
          "base_uri": "https://localhost:8080/"
        },
        "id": "sqEffK9Emn-H",
        "outputId": "3c6c4bfb-f425-423b-8368-5e1dca395574"
      },
      "execution_count": 5,
      "outputs": [
        {
          "output_type": "stream",
          "name": "stdout",
          "text": [
            "Data saved to etherum_one-year_data.xlsx\n"
          ]
        }
      ]
    },
    {
      "cell_type": "code",
      "source": [],
      "metadata": {
        "id": "hrn3jVCfmTX1"
      },
      "execution_count": null,
      "outputs": []
    }
  ]
}